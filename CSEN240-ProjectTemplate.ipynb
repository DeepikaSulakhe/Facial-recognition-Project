{
  "cells": [
    {
      "cell_type": "markdown",
      "metadata": {
        "id": "mjOvZG_gFMQn"
      },
      "source": [
        "#### Mounting Google Drive"
      ]
    },
    {
      "cell_type": "code",
      "execution_count": null,
      "metadata": {
        "colab": {
          "base_uri": "https://localhost:8080/"
        },
        "id": "pmn9gCJMme4R",
        "outputId": "47bad87f-fe11-42f3-df20-831143380b36"
      },
      "outputs": [
        {
          "output_type": "stream",
          "name": "stdout",
          "text": [
            "Mounted at /content/drive\n"
          ]
        }
      ],
      "source": [
        "from google.colab import drive\n",
        "drive.mount('/content/drive')"
      ]
    },
    {
      "cell_type": "markdown",
      "metadata": {
        "id": "j2_3Ef5pFMQo"
      },
      "source": [
        "#### Setting up base paths"
      ]
    },
    {
      "cell_type": "code",
      "execution_count": null,
      "metadata": {
        "id": "2XdI7eOZmqRv"
      },
      "outputs": [],
      "source": [
        "# NOT TO BE CHANGED IN SUBMISSION\n",
        "BASE_INPUT_PATH = \"/content/drive/MyDrive/SP24-CSEN240-2/Project\"\n",
        "TRAIN_DATA_PATH = BASE_INPUT_PATH + \"/Train\"\n",
        "VALIDATION_DATA_PATH = BASE_INPUT_PATH + \"/Validation\"\n",
        "TEST_DATA_PATH = BASE_INPUT_PATH + \"/Test\""
      ]
    },
    {
      "cell_type": "code",
      "source": [
        "GROUP_NUMBER = \"\" # TODO\n",
        "ADDITIONAL_FILES_PATH = BASE_INPUT_PATH + \"/Temp/Group-%s\" % GROUP_NUMBER\n",
        "OUTPUT_PATH = BASE_INPUT_PATH + \"/Prediction\""
      ],
      "metadata": {
        "id": "_0UgwQuLTe-H"
      },
      "execution_count": null,
      "outputs": []
    },
    {
      "cell_type": "markdown",
      "source": [
        "#### Import dependencies"
      ],
      "metadata": {
        "id": "HGczuObjRCRm"
      }
    },
    {
      "cell_type": "code",
      "source": [
        "# TODO"
      ],
      "metadata": {
        "id": "0ya627TtRB-I"
      },
      "execution_count": null,
      "outputs": []
    },
    {
      "cell_type": "markdown",
      "source": [
        "#### Read training/validation images and labels"
      ],
      "metadata": {
        "id": "KLxSEYGLQrRB"
      }
    },
    {
      "cell_type": "code",
      "source": [
        "# TODO"
      ],
      "metadata": {
        "id": "Skc9-sp9Fpcd"
      },
      "execution_count": 7,
      "outputs": []
    },
    {
      "cell_type": "markdown",
      "source": [
        "#### Optional: Perform data pre-processing"
      ],
      "metadata": {
        "id": "ED-pTm-XQxoe"
      }
    },
    {
      "cell_type": "code",
      "source": [
        "# TODO"
      ],
      "metadata": {
        "id": "oXa1sQvAQw7W"
      },
      "execution_count": null,
      "outputs": []
    },
    {
      "cell_type": "markdown",
      "source": [
        "#### Optional: Perform data augmentation"
      ],
      "metadata": {
        "id": "gGOylD6iQ5aF"
      }
    },
    {
      "cell_type": "code",
      "source": [
        "# TODO"
      ],
      "metadata": {
        "id": "JhMhr9_0Qw5e"
      },
      "execution_count": null,
      "outputs": []
    },
    {
      "cell_type": "markdown",
      "source": [
        "### Train and tune model"
      ],
      "metadata": {
        "id": "_0ROVbhbRZsu"
      }
    },
    {
      "cell_type": "code",
      "source": [
        "# TODO"
      ],
      "metadata": {
        "id": "edM37Cx7Qw2_"
      },
      "execution_count": null,
      "outputs": []
    },
    {
      "cell_type": "markdown",
      "source": [
        "#### Read test images"
      ],
      "metadata": {
        "id": "fNkewk5FSoZT"
      }
    },
    {
      "cell_type": "code",
      "source": [
        "# TODO"
      ],
      "metadata": {
        "id": "qXMUAGwcSn9V"
      },
      "execution_count": null,
      "outputs": []
    },
    {
      "cell_type": "markdown",
      "source": [
        "#### Generate model performance reports"
      ],
      "metadata": {
        "id": "-GwAgEtTR4Ub"
      }
    },
    {
      "cell_type": "code",
      "source": [
        "# TODO"
      ],
      "metadata": {
        "id": "rocnyGNjR3tX"
      },
      "execution_count": null,
      "outputs": []
    },
    {
      "cell_type": "markdown",
      "source": [
        "#### Generate prediction file"
      ],
      "metadata": {
        "id": "3CsU5LHrRjk6"
      }
    },
    {
      "cell_type": "code",
      "source": [
        "# TODO Generate a group-x.txt file with predictions and save it to OUTPUT_PATH folder"
      ],
      "metadata": {
        "id": "zAfb-WjBQw0r"
      },
      "execution_count": null,
      "outputs": []
    }
  ],
  "metadata": {
    "colab": {
      "provenance": []
    },
    "kernelspec": {
      "display_name": "Python 3",
      "name": "python3"
    },
    "language_info": {
      "name": "python"
    }
  },
  "nbformat": 4,
  "nbformat_minor": 0
}